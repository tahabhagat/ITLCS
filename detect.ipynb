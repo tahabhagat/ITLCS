{
 "cells": [
  {
   "cell_type": "code",
   "execution_count": 1,
   "metadata": {},
   "outputs": [
    {
     "name": "stderr",
     "output_type": "stream",
     "text": [
      "Using cache found in C:\\Users\\tahab/.cache\\torch\\hub\\ultralytics_yolov5_master\n",
      "YOLOv5  2023-3-21 Python-3.10.10 torch-2.0.0+cpu CPU\n",
      "\n",
      "Fusing layers... \n",
      "Model summary: 157 layers, 7023610 parameters, 0 gradients, 15.8 GFLOPs\n",
      "Adding AutoShape... \n"
     ]
    },
    {
     "name": "stdout",
     "output_type": "stream",
     "text": [
      "image 1/1: 480x640 (no detections)\n",
      "Speed: 6.5ms pre-process, 236.3ms inference, 18.4ms NMS per image at shape (1, 3, 480, 640)\n",
      "{'detections)': '(no'}\n"
     ]
    },
    {
     "ename": "",
     "evalue": "",
     "output_type": "error",
     "traceback": [
      "\u001b[1;31mThe Kernel crashed while executing code in the the current cell or a previous cell. Please review the code in the cell(s) to identify a possible cause of the failure. Click <a href='https://aka.ms/vscodeJupyterKernelCrash'>here</a> for more info. View Jupyter <a href='command:jupyter.viewOutput'>log</a> for further details."
     ]
    }
   ],
   "source": [
    "import cv2\n",
    "from time import sleep\n",
    "import torch\n",
    "import get_results\n",
    "\n",
    "\n",
    "cam = cv2.VideoCapture(0)\n",
    "ret, frame = cam.read()\n",
    "model = torch.hub.load('ultralytics/yolov5', 'custom', path = 'weights/best.pt')\n",
    "\n",
    "im = '2b.jpg'\n",
    "results = model(frame)\n",
    "print(results)\n",
    "\n",
    "res_dict = get_results.extract_results(str(results))\n",
    "print(res_dict)\n",
    "cv2.imshow(\"test\", frame)"
   ]
  },
  {
   "cell_type": "code",
   "execution_count": null,
   "metadata": {},
   "outputs": [],
   "source": []
  }
 ],
 "metadata": {
  "kernelspec": {
   "display_name": ".venv",
   "language": "python",
   "name": "python3"
  },
  "language_info": {
   "codemirror_mode": {
    "name": "ipython",
    "version": 3
   },
   "file_extension": ".py",
   "mimetype": "text/x-python",
   "name": "python",
   "nbconvert_exporter": "python",
   "pygments_lexer": "ipython3",
   "version": "3.10.10"
  },
  "orig_nbformat": 4
 },
 "nbformat": 4,
 "nbformat_minor": 2
}
